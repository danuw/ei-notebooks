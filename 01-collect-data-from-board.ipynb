{
 "cells": [
  {
   "cell_type": "markdown",
   "metadata": {},
   "source": [
    "[![Edge Impulse Inc.](./.assets/images/ei-badge.png)](http://edgeimpulse.com)"
   ]
  },
  {
   "cell_type": "markdown",
   "metadata": {},
   "source": [
    "# Collect data from your development kit"
   ]
  },
  {
   "cell_type": "markdown",
   "metadata": {},
   "source": [
    "## 1. Obtain an API key from your project"
   ]
  },
  {
   "cell_type": "markdown",
   "metadata": {},
   "source": [
    "Your project API key can be used to enable programmatic access to Edge Impulse. You can create and/or obtain a key from your project's Dashboard, under the `Keys` tab. API keys are long strings, and start with `ei_`:\n",
    "\n",
    "![Project API Key](./.assets/images/project-key.png)"
   ]
  },
  {
   "cell_type": "markdown",
   "metadata": {},
   "source": [
    "## 2. Connect your development kit to your project"
   ]
  },
  {
   "cell_type": "markdown",
   "metadata": {},
   "source": [
    "Open a terminal and run the Edge Impulse daemon. The daemon is the service that connects your hardware with any Edge Impulse project:\n",
    "```shell\n",
    "edge-impulse-daemon --api-key <your project API key>\n",
    "```"
   ]
  },
  {
   "cell_type": "markdown",
   "metadata": {},
   "source": [
    "## 3. Obtain your project's ID"
   ]
  },
  {
   "cell_type": "markdown",
   "metadata": {},
   "source": [
    "Copy your project's ID from the project's Dashboard under the `Project Info` section:\n",
    "\n",
    "![Project API Key](./.assets/images/project-id.png)"
   ]
  },
  {
   "cell_type": "markdown",
   "metadata": {},
   "source": [
    "## 4. Setup API Connection"
   ]
  },
  {
   "cell_type": "markdown",
   "metadata": {},
   "source": [
    "Replace the `PROJECT_ID` below with the ID of your project you selected and enter your API key when prompted:"
   ]
  },
  {
   "cell_type": "code",
   "execution_count": 14,
   "metadata": {},
   "outputs": [
    {
     "name": "stdout",
     "output_type": "stream",
     "text": [
      "Project Infineon CY8CKIT-062S2 Pioneer Kit: Workout Activity is accessible\n"
     ]
    }
   ],
   "source": [
    "import requests\n",
    "import getpass\n",
    "import json\n",
    "\n",
    "PROJECT_ID = 113101\n",
    "URL_STUDIO = \"https://studio.edgeimpulse.com/v1/api/\"\n",
    "AUTH_KEY = getpass.getpass('Enter your API key: ')\n",
    "\n",
    "\n",
    "def check_response(response, debug=False):\n",
    "    if not response.ok:\n",
    "        raise RuntimeError(\"⛔️ Error\\n%s\" % response.text)\n",
    "    else:\n",
    "        if debug:\n",
    "            print(response)\n",
    "        return response\n",
    "\n",
    "\n",
    "def do_get(url, auth, debug=False):\n",
    "    if debug:\n",
    "        print(url)\n",
    "    response = requests.get(url,\n",
    "                            headers={\n",
    "                                \"Accept\": \"application/json\",\n",
    "                                \"x-api-key\": auth\n",
    "                            })\n",
    "    return check_response(response, debug)\n",
    "\n",
    "\n",
    "def parse_response(response, key=\"\"):\n",
    "    parsed = json.loads(response.text)\n",
    "    if not parsed[\"success\"]:\n",
    "        raise RuntimeError(parsed[\"error\"])\n",
    "    if key == \"\":\n",
    "        return json.loads(response.text)\n",
    "    return json.loads(response.text)[key]\n",
    "\n",
    "\n",
    "def get_project(project_id, project_auth, debug=False):\n",
    "    response = do_get(URL_STUDIO + str(project_id), project_auth)\n",
    "    return parse_response(response, \"project\")\n",
    "\n",
    "\n",
    "print(\"Project %s is accessible\" % get_project(PROJECT_ID, AUTH_KEY)[\"name\"])"
   ]
  },
  {
   "cell_type": "markdown",
   "metadata": {},
   "source": [
    "## 5. Get the ID of the connected device"
   ]
  },
  {
   "cell_type": "code",
   "execution_count": 15,
   "metadata": {},
   "outputs": [
    {
     "name": "stdout",
     "output_type": "stream",
     "text": [
      "Found Jorge's INFINEON PSOC62 (type INFINEON_PSOC62, id: ef:ff:28:96:40:dc)\n"
     ]
    }
   ],
   "source": [
    "# https://studio.edgeimpulse.com/v1/api/{projectId}/devices\n",
    "\n",
    "def get_devices(project_id, project_auth, debug=False):\n",
    "    response = do_get(URL_STUDIO + str(project_id) + \"/devices\", project_auth)\n",
    "    return parse_response(response, \"devices\")\n",
    "\n",
    "\n",
    "device_id = \"\"\n",
    "for device in get_devices(PROJECT_ID, AUTH_KEY):\n",
    "    # if device[\"remote_mgmt_connected\"] and device[\"supportsSnapshotStreaming\"]:\n",
    "    if device[\"remote_mgmt_connected\"]:\n",
    "        device_id = device[\"deviceId\"]\n",
    "        print(\"Found %s (type %s, id: %s)\" %\n",
    "              (device[\"name\"], device[\"deviceType\"], device_id))\n",
    "        break\n",
    "if device_id == \"\":\n",
    "    print(\n",
    "        \"Could not find a connected device that supports snapshot streaming!\")"
   ]
  },
  {
   "cell_type": "markdown",
   "metadata": {},
   "source": [
    "## 6. Trigger data sampling"
   ]
  },
  {
   "cell_type": "code",
   "execution_count": 24,
   "metadata": {},
   "outputs": [
    {
     "name": "stdout",
     "output_type": "stream",
     "text": [
      "Sample request returned 1655301672986\n"
     ]
    }
   ],
   "source": [
    "# https://studio.edgeimpulse.com/v1/api/{projectId}/device/{deviceId}/start-sampling\n",
    "\n",
    "SAMPLE_CATEGORY = \"testing\"\n",
    "SAMPLE_LENGTH_MS = 20000\n",
    "SAMPLE_LABEL = \"squat\"\n",
    "\n",
    "def do_post(url, payload, auth, debug=False):\n",
    "    if debug:\n",
    "        print(url)\n",
    "    response = requests.post(url,\n",
    "                             headers={\n",
    "                                 \"Accept\": \"application/json\",\n",
    "                                 \"x-api-key\": auth\n",
    "                             },\n",
    "                             json=payload)\n",
    "    return check_response(response, debug)\n",
    "\n",
    "\n",
    "def collect_sample(project_id, device_id, project_auth, debug=False):\n",
    "    payload = {\n",
    "        \"category\": SAMPLE_CATEGORY,\n",
    "        # \"Microphone\", \"Inertial\", \"Environmental\" or \"Inertial + Environmental\"\n",
    "        \"sensor\": \"Inertial\",\n",
    "        # The inverse of frequency in Hz\n",
    "        \"intervalMs\": 10,\n",
    "        \"label\": SAMPLE_LABEL,\n",
    "        \"lengthMs\": SAMPLE_LENGTH_MS\n",
    "    }\n",
    "    response = do_post(\n",
    "        URL_STUDIO + str(project_id) + \"/device/\" + str(device_id) +\n",
    "        \"/start-sampling\", payload, project_auth, debug)\n",
    "    return parse_response(response, \"id\")\n",
    "\n",
    "\n",
    "print(\"Sample request returned\", collect_sample(PROJECT_ID, device_id, AUTH_KEY))"
   ]
  }
 ],
 "metadata": {
  "kernelspec": {
   "display_name": "Python 3.9.13 64-bit",
   "language": "python",
   "name": "python3"
  },
  "language_info": {
   "codemirror_mode": {
    "name": "ipython",
    "version": 3
   },
   "file_extension": ".py",
   "mimetype": "text/x-python",
   "name": "python",
   "nbconvert_exporter": "python",
   "pygments_lexer": "ipython3",
   "version": "3.9.13"
  },
  "orig_nbformat": 4,
  "vscode": {
   "interpreter": {
    "hash": "aee8b7b246df8f9039afb4144a1f6fd8d2ca17a180786b69acc140d282b71a49"
   }
  }
 },
 "nbformat": 4,
 "nbformat_minor": 2
}
