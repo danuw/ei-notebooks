{
 "cells": [
  {
   "cell_type": "markdown",
   "metadata": {},
   "source": [
    "\n",
    "[![Works with Edge Impulse](./.assets/images/ei-badge.svg)](http://edgeimpulse.com) [![Open in Google Colab <](https://colab.research.google.com/assets/colab-badge.svg)](https://colab.research.google.com/github/edgeimpulse/notebooks/blob/main/notebooks/03-generate-keyword-spotting-dataset.ipynb)"
   ]
  },
  {
   "cell_type": "markdown",
   "metadata": {},
   "source": [
    "# Use PyBullet to generate a physics simulation based dataset"
   ]
  },
  {
   "cell_type": "markdown",
   "metadata": {},
   "source": [
    "This notebook takes you through a basic example of using the physics simulation tool PyBullet to generate an accelerometer dataset representing dropping the Nordic Thingy:53 devkit from different heights. This dataset can be used to train a regression model to predict drop height.\n",
    "\n",
    "This idea could be used for a wide range of simulatable environments- for example generating accelerometer datasets for pose estimation or fall detection. The same concept could be applied in an FMEA application for generating strain datasets for structural monitoring.\n"
   ]
  },
  {
   "cell_type": "markdown",
   "metadata": {},
   "source": [
    "\n",
    "### Local Software Requirements\n",
    "- Python 3\n",
    "- Pip package manager \n",
    "- Jupyter Notebook: https://jupyter.org/install\n",
    "- Bullet3: https://github.com/bulletphysics/bullet3\n",
    "The dependencies can be installed with:"
   ]
  },
  {
   "cell_type": "code",
   "execution_count": 1,
   "metadata": {},
   "outputs": [
    {
     "name": "stdout",
     "output_type": "stream",
     "text": [
      "Requirement already satisfied: pybullet in /Users/jbruges/.pyenv/versions/3.11.0rc2/lib/python3.11/site-packages (3.2.5)\r\n",
      "Requirement already satisfied: numpy in /Users/jbruges/.pyenv/versions/3.11.0rc2/lib/python3.11/site-packages (1.23.4)\r\n"
     ]
    }
   ],
   "source": [
    "! pip install pybullet numpy"
   ]
  },
  {
   "cell_type": "code",
   "execution_count": 2,
   "metadata": {},
   "outputs": [
    {
     "name": "stderr",
     "output_type": "stream",
     "text": [
      "pybullet build time: Mar 15 2023 13:22:55\n"
     ]
    }
   ],
   "source": [
    "# Imports\n",
    "import pybullet as p\n",
    "import pybullet_data\n",
    "import os\n",
    "import shutil\n",
    "import csv\n",
    "import random\n",
    "import numpy as np\n",
    "import json\n"
   ]
  },
  {
   "cell_type": "markdown",
   "metadata": {},
   "source": [
    "## Create object to simulate\n",
    "We need to load in a Universal Robotics Description Format file describing an object with the dimensions and weight of a Nordic Thingy:53. In this case, measuring our device it is 64x60x23.5mm and its weight 60g. The shape is given by a .obj 3D model file.\n"
   ]
  },
  {
   "cell_type": "raw",
   "metadata": {},
   "source": [
    "<robot name=\"thingy53\">\n",
    "\t<link name=\"_name\">\n",
    "\t\t\n",
    "\t\t<visual>\n",
    "\t\t\t<origin xyz=\"0.02977180615936878 -0.01182944632717566 0.03176079914341195\" rpy=\"1.57079632679 0.0 0.0\" />\n",
    "\t\t\t<geometry>\n",
    "\t\t\t\t<mesh filename=\"thingy53/thingy53 v2.obj\" scale=\"1 1 1\" />\n",
    "\t\t\t</geometry>\n",
    "\t\t\t<material name=\"texture\">\n",
    "\t\t\t\t<color rgba=\"1.0 1.0 1.0 1.0\" />\n",
    "\t\t\t</material>\n",
    "\t\t</visual>\n",
    "\t\t<collision>\n",
    "\t\t\t<origin xyz=\"0.02977180615936878 -0.01182944632717566 0.03176079914341195\" rpy=\"1.57079632679 0.0 0.0\" />\n",
    "\t\t\t<geometry>\n",
    "\t\t\t\t<mesh filename=\"thingy53/thingy53 v2.obj\" scale=\"1 1 1\" />\n",
    "\t\t\t</geometry>\n",
    "\t\t</collision>\n",
    "\t\t<inertial>\n",
    "\t\t\t<mass value=\"0.06\" />\n",
    "      \t\t<inertia ixx=\"0.00002076125\" ixy=\"0\" ixz=\"0\" iyy=\"0.00002324125\" iyz=\"0\" izz=\"0.00003848\"/>\n",
    "\t\t</inertial>\n",
    "\t</link>\n",
    "</robot>"
   ]
  },
  {
   "cell_type": "markdown",
   "metadata": {},
   "source": [
    "# Visualising the problem\n",
    "To generate the required data we will be running PyBullet in headless \"DIRECT\" mode so we can iterate quickly over the parameter field. If you run the python file below you can see how pybullet simulates the object dropping onto a plane "
   ]
  },
  {
   "cell_type": "code",
   "execution_count": 3,
   "metadata": {},
   "outputs": [
    {
     "name": "stdout",
     "output_type": "stream",
     "text": [
      "pybullet build time: Mar 15 2023 13:22:55\n",
      "Version = 4.1 Metal - 83\n",
      "Vendor = Apple\n",
      "Renderer = Apple M1 Pro\n",
      "b3Printf: Selected demo: Physics Server\n",
      "startThreads creating 1 threads.\n",
      "starting thread 0\n",
      "started thread 0 \n",
      "MotionThreadFunc thread started\n",
      "numActiveThreads = 0\n",
      "stopping threads\n",
      "Thread with taskId 0 exiting\n",
      "Thread TERMINATED\n",
      "destroy semaphore\n",
      "semaphore destroyed\n",
      "destroy main semaphore\n",
      "main semaphore destroyed\n"
     ]
    }
   ],
   "source": [
    "! python ../.assets/pybullet/single_simulation.py"
   ]
  },
  {
   "cell_type": "markdown",
   "metadata": {},
   "source": [
    "\n",
    "## Setting up the simulation environment\n",
    "First off we need to set up a pybullet physics simulation environment. We load in our object file and a plane for it to drop onto. The plane's dynamics can be adjusted to better represent the real world (in this case we're dropping onto carpet)"
   ]
  },
  {
   "cell_type": "code",
   "execution_count": 4,
   "metadata": {},
   "outputs": [],
   "source": [
    "# Set up PyBullet physics simulation (change from p.GUI to p.DIRECT for headless simulation)\n",
    "physicsClient = p.connect(p.DIRECT)\n",
    "p.setAdditionalSearchPath(pybullet_data.getDataPath())\n",
    "p.setGravity(0, 0, -9.81)\n",
    "\n",
    "# Load object URDF file\n",
    "obj_file = \"../.assets/pybullet/thingy53/thingy53.urdf\"\n",
    "obj_id = p.loadURDF(obj_file, flags=p.URDF_USE_INERTIA_FROM_FILE)\n",
    "\n",
    "# Add a solid plane for the object to collide with\n",
    "plane_id = p.loadURDF(\"plane.urdf\")\n",
    "\n",
    "# Set length of simulation and sampling frequency\n",
    "sample_length = 2 # Seconds\n",
    "sample_freq = 100 # Hz\n"
   ]
  },
  {
   "cell_type": "markdown",
   "metadata": {},
   "source": [
    "We also need to define the output folder for our simulated accelerometer files"
   ]
  },
  {
   "cell_type": "code",
   "execution_count": 5,
   "metadata": {},
   "outputs": [],
   "source": [
    "output_folder = 'output/'\n",
    "# Check if output directory for noisey files exists and create it if it doesn't\n",
    "if not os.path.exists(output_folder):\n",
    "    os.makedirs(output_folder)\n",
    "else:\n",
    "    shutil.rmtree(output_folder)\n",
    "    os.makedirs(output_folder)"
   ]
  },
  {
   "cell_type": "markdown",
   "metadata": {},
   "source": [
    "And define the drop parameters"
   ]
  },
  {
   "cell_type": "code",
   "execution_count": 6,
   "metadata": {},
   "outputs": [],
   "source": [
    "# Simulate dropping object from range of heights\n",
    "heights = 100\n",
    "sims_per_height = 20\n",
    "min_height = 0.1 # Metres\n",
    "max_height = 0.8 # Metres"
   ]
  },
  {
   "cell_type": "markdown",
   "metadata": {},
   "source": [
    "We also need to define the characterstics of the IMU on the real device we are trying to simulate. In this case the Nordic Thingy:53 has a Bosch BMI270 IMU (https://www.bosch-sensortec.com/products/motion-sensors/imus/bmi270/) which is set to a range of +-2g with a resolution of 0.06g. These parameters will be used to restrict the raw acceleration output:"
   ]
  },
  {
   "cell_type": "code",
   "execution_count": 7,
   "metadata": {},
   "outputs": [],
   "source": [
    "\n",
    "range_g = 2\n",
    "range_acc = range_g * 9.81\n",
    "resolution_mg = 0.06\n",
    "resolution_acc = resolution_mg / 1000.0 * 9.81"
   ]
  },
  {
   "cell_type": "markdown",
   "metadata": {},
   "source": [
    "Finally we are going to give the object and plane restitution properties to allow for some bounce. In this case I dropped the real Thingy:53 onto a hardwood table. You can use p.changeDynamics to introduce other factors such as damping and friction."
   ]
  },
  {
   "cell_type": "code",
   "execution_count": 8,
   "metadata": {},
   "outputs": [],
   "source": [
    "p.changeDynamics(obj_id, -1, restitution=0.3)\n",
    "p.changeDynamics(plane_id, -1, restitution=0.4)"
   ]
  },
  {
   "cell_type": "markdown",
   "metadata": {},
   "source": [
    "## Drop simulation\n",
    "Here we iterate over a range of heights, randomly changing its start orientation for i number of simulations per height. The acceleration is calculated relative to the orientation of the Thingy:53 object to represent its onboard accelerometer."
   ]
  },
  {
   "cell_type": "code",
   "execution_count": 9,
   "metadata": {},
   "outputs": [
    {
     "name": "stdout",
     "output_type": "stream",
     "text": [
      "Simulating 20 drops from 0.8m\n",
      "Simulating 20 drops from 0.7929292929292929m\n",
      "Simulating 20 drops from 0.7858585858585859m\n",
      "Simulating 20 drops from 0.7787878787878788m\n",
      "Simulating 20 drops from 0.7717171717171718m\n",
      "Simulating 20 drops from 0.7646464646464647m\n",
      "Simulating 20 drops from 0.7575757575757576m\n",
      "Simulating 20 drops from 0.7505050505050506m\n",
      "Simulating 20 drops from 0.7434343434343434m\n",
      "Simulating 20 drops from 0.7363636363636364m\n",
      "Simulating 20 drops from 0.7292929292929293m\n",
      "Simulating 20 drops from 0.7222222222222223m\n",
      "Simulating 20 drops from 0.7151515151515152m\n",
      "Simulating 20 drops from 0.7080808080808081m\n",
      "Simulating 20 drops from 0.7010101010101011m\n",
      "Simulating 20 drops from 0.693939393939394m\n",
      "Simulating 20 drops from 0.6868686868686869m\n",
      "Simulating 20 drops from 0.6797979797979798m\n",
      "Simulating 20 drops from 0.6727272727272727m\n",
      "Simulating 20 drops from 0.6656565656565657m\n",
      "Simulating 20 drops from 0.6585858585858586m\n",
      "Simulating 20 drops from 0.6515151515151516m\n",
      "Simulating 20 drops from 0.6444444444444445m\n",
      "Simulating 20 drops from 0.6373737373737374m\n",
      "Simulating 20 drops from 0.6303030303030304m\n",
      "Simulating 20 drops from 0.6232323232323232m\n",
      "Simulating 20 drops from 0.6161616161616161m\n",
      "Simulating 20 drops from 0.6090909090909091m\n",
      "Simulating 20 drops from 0.6020202020202021m\n",
      "Simulating 20 drops from 0.594949494949495m\n",
      "Simulating 20 drops from 0.5878787878787879m\n",
      "Simulating 20 drops from 0.5808080808080809m\n",
      "Simulating 20 drops from 0.5737373737373738m\n",
      "Simulating 20 drops from 0.5666666666666667m\n",
      "Simulating 20 drops from 0.5595959595959596m\n",
      "Simulating 20 drops from 0.5525252525252525m\n",
      "Simulating 20 drops from 0.5454545454545454m\n",
      "Simulating 20 drops from 0.5383838383838384m\n",
      "Simulating 20 drops from 0.5313131313131314m\n",
      "Simulating 20 drops from 0.5242424242424243m\n",
      "Simulating 20 drops from 0.5171717171717172m\n",
      "Simulating 20 drops from 0.5101010101010102m\n",
      "Simulating 20 drops from 0.503030303030303m\n",
      "Simulating 20 drops from 0.495959595959596m\n",
      "Simulating 20 drops from 0.48888888888888893m\n",
      "Simulating 20 drops from 0.48181818181818187m\n",
      "Simulating 20 drops from 0.47474747474747475m\n",
      "Simulating 20 drops from 0.4676767676767677m\n",
      "Simulating 20 drops from 0.46060606060606063m\n",
      "Simulating 20 drops from 0.45353535353535357m\n",
      "Simulating 20 drops from 0.4464646464646465m\n",
      "Simulating 20 drops from 0.4393939393939394m\n",
      "Simulating 20 drops from 0.43232323232323233m\n",
      "Simulating 20 drops from 0.42525252525252527m\n",
      "Simulating 20 drops from 0.4181818181818182m\n",
      "Simulating 20 drops from 0.41111111111111115m\n",
      "Simulating 20 drops from 0.4040404040404041m\n",
      "Simulating 20 drops from 0.396969696969697m\n",
      "Simulating 20 drops from 0.3898989898989899m\n",
      "Simulating 20 drops from 0.38282828282828285m\n",
      "Simulating 20 drops from 0.3757575757575758m\n",
      "Simulating 20 drops from 0.36868686868686873m\n",
      "Simulating 20 drops from 0.3616161616161616m\n",
      "Simulating 20 drops from 0.35454545454545455m\n",
      "Simulating 20 drops from 0.3474747474747475m\n",
      "Simulating 20 drops from 0.34040404040404043m\n",
      "Simulating 20 drops from 0.33333333333333337m\n",
      "Simulating 20 drops from 0.32626262626262625m\n",
      "Simulating 20 drops from 0.3191919191919192m\n",
      "Simulating 20 drops from 0.31212121212121213m\n",
      "Simulating 20 drops from 0.30505050505050507m\n",
      "Simulating 20 drops from 0.297979797979798m\n",
      "Simulating 20 drops from 0.2909090909090909m\n",
      "Simulating 20 drops from 0.2838383838383839m\n",
      "Simulating 20 drops from 0.2767676767676768m\n",
      "Simulating 20 drops from 0.26969696969696966m\n",
      "Simulating 20 drops from 0.26262626262626265m\n",
      "Simulating 20 drops from 0.25555555555555554m\n",
      "Simulating 20 drops from 0.24848484848484853m\n",
      "Simulating 20 drops from 0.24141414141414141m\n",
      "Simulating 20 drops from 0.2343434343434343m\n",
      "Simulating 20 drops from 0.2272727272727273m\n",
      "Simulating 20 drops from 0.22020202020202018m\n",
      "Simulating 20 drops from 0.21313131313131317m\n",
      "Simulating 20 drops from 0.20606060606060606m\n",
      "Simulating 20 drops from 0.19898989898989905m\n",
      "Simulating 20 drops from 0.19191919191919193m\n",
      "Simulating 20 drops from 0.18484848484848482m\n",
      "Simulating 20 drops from 0.1777777777777778m\n",
      "Simulating 20 drops from 0.1707070707070707m\n",
      "Simulating 20 drops from 0.1636363636363637m\n",
      "Simulating 20 drops from 0.15656565656565657m\n",
      "Simulating 20 drops from 0.14949494949494946m\n",
      "Simulating 20 drops from 0.14242424242424245m\n",
      "Simulating 20 drops from 0.13535353535353534m\n",
      "Simulating 20 drops from 0.12828282828282833m\n",
      "Simulating 20 drops from 0.12121212121212122m\n",
      "Simulating 20 drops from 0.1141414141414141m\n",
      "Simulating 20 drops from 0.1070707070707071m\n",
      "Simulating 20 drops from 0.1m\n"
     ]
    }
   ],
   "source": [
    "metadata = []\n",
    "for height in np.linspace(max_height, min_height, num=heights):\n",
    "    print(f\"Simulating {sims_per_height} drops from {height}m\")\n",
    "    for i in range(sims_per_height):\n",
    "        # Set initial position and orientation of object\n",
    "        x = 0\n",
    "        y = 0\n",
    "        z = height\n",
    "        orientation = p.getQuaternionFromEuler((random.uniform(0, 2 * np.pi), random.uniform(0, 2 * np.pi), random.uniform(0, 2 * np.pi)))\n",
    "        p.resetBasePositionAndOrientation(obj_id, [x, y, z], orientation)\n",
    "        \n",
    "        prev_linear_vel = np.zeros(3)\n",
    "\n",
    "        # Initialize the object position and velocity\n",
    "        pos_prev, orn_prev = p.getBasePositionAndOrientation(obj_id)\n",
    "        vel_prev, ang_vel_prev = p.getBaseVelocity(obj_id)\n",
    "        timestamp=0\n",
    "        dt=1/sample_freq\n",
    "        p.setTimeStep(dt)\n",
    "        filename=f\"drop_{height}m_{i}.csv\"\n",
    "        with open(f\"output/{filename}\", mode=\"w\") as csv_file:\n",
    "                writer = csv.writer(csv_file)\n",
    "                writer.writerow(['timestamp','accX','accY','accZ'])\n",
    "        while timestamp < sample_length:\n",
    "            p.stepSimulation()\n",
    "            linear_vel, angular_vel = p.getBaseVelocity(obj_id)\n",
    "            lin_acc = [(v - prev_v)/dt for v, prev_v in zip(linear_vel, prev_linear_vel)]\n",
    "            prev_linear_vel = linear_vel\n",
    "            timestamp += dt\n",
    "            # Get the current position and orientation of the object\n",
    "            pos, orn = p.getBasePositionAndOrientation(obj_id)\n",
    "\n",
    "            # Get the linear and angular velocity of the object in world coordinates\n",
    "            vel, ang_vel = p.getBaseVelocity(obj_id)\n",
    "\n",
    "             # Calculate the change in position and velocity between steps\n",
    "            pos_diff = np.array(pos) - np.array(pos_prev)\n",
    "            vel_diff = np.array(vel) - np.array(vel_prev)\n",
    "\n",
    "            # Convert the orientation quaternion to a rotation matrix\n",
    "            rot_matrix = np.array(p.getMatrixFromQuaternion(orn)).reshape(3, 3)\n",
    "\n",
    "            # Calculate the local linear acceleration of the object, subtracting gravity\n",
    "            local_acc = np.dot(rot_matrix.T, vel_diff / dt) - np.array([0, 0, -9.81])\n",
    "            # Restrict the acceleration to the range of the accelerometer\n",
    "            imu_rel_lin_acc_scaled = np.clip(local_acc, -range_acc, range_acc)\n",
    "            # Round the acceleration to the nearest resolution of the accelerometer\n",
    "            imu_rel_lin_acc_rounded = np.round(imu_rel_lin_acc_scaled/resolution_acc) * resolution_acc\n",
    "            # Update the previous position and velocity\n",
    "            pos_prev, orn_prev = pos, orn\n",
    "            vel_prev, ang_vel_prev = vel, ang_vel\n",
    "\n",
    "            # Save acceleration data to CSV file\n",
    "            with open(f\"{output_folder}{filename}\", mode=\"a\") as csv_file:\n",
    "                writer = csv.writer(csv_file)\n",
    "                writer.writerow([timestamp*1000] + imu_rel_lin_acc_rounded.tolist())\n",
    "\n",
    "        nearestheight = round(height, 2)\n",
    "        metadata.append({\n",
    "            \"path\": filename,\n",
    "            \"category\": \"training\",\n",
    "            \"label\": { \"type\": \"label\", \"label\": str(nearestheight)}\n",
    "        })\n"
   ]
  },
  {
   "cell_type": "markdown",
   "metadata": {},
   "source": [
    "Finally we save the metadata file to the output folder. This can be used to tell the edge-impulse-uploader CLI tool the floating point labels for each file.\n"
   ]
  },
  {
   "cell_type": "code",
   "execution_count": 10,
   "metadata": {},
   "outputs": [],
   "source": [
    "jsonout = {\"version\": 1, \"files\": metadata}\n",
    "\n",
    "with open(f\"{output_folder}/files.json\", \"w\") as f:\n",
    "    json.dump(jsonout, f)\n",
    "\n",
    "# Disconnect from PyBullet physics simulation\n",
    "p.disconnect()"
   ]
  },
  {
   "cell_type": "markdown",
   "metadata": {},
   "source": [
    "These files can then be uploaded to a project with these commands (run in a separate terminal window):"
   ]
  },
  {
   "cell_type": "code",
   "execution_count": null,
   "metadata": {},
   "outputs": [],
   "source": [
    "! cd output\n",
    "! edge-impulse-uploader --info-file files.json"
   ]
  },
  {
   "cell_type": "markdown",
   "metadata": {},
   "source": [
    "(run edge-impulse-uploader --clean if you have used the CLI before to reset the target project)"
   ]
  },
  {
   "cell_type": "markdown",
   "metadata": {},
   "source": [
    "## What next?\n",
    "Now you can use your dataset a drop height detection regression model in Edge Impulse Studio!\n",
    "\n",
    "See if you can edit this project to simulate throwing the object up in the air to predict the maximum height, or add in your own custom object. "
   ]
  }
 ],
 "metadata": {
  "kernelspec": {
   "display_name": "Python 3 (ipykernel)",
   "language": "python",
   "name": "python3"
  },
  "language_info": {
   "codemirror_mode": {
    "name": "ipython",
    "version": 3
   },
   "file_extension": ".py",
   "mimetype": "text/x-python",
   "name": "python",
   "nbconvert_exporter": "python",
   "pygments_lexer": "ipython3",
   "version": "3.11.0rc2"
  },
  "vscode": {
   "interpreter": {
    "hash": "bad1f34850cf7a418228d1fe01ba985e30c9d9c31c0cf028909436fe9d6b20cb"
   }
  }
 },
 "nbformat": 4,
 "nbformat_minor": 2
}
