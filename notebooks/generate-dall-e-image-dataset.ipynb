{
 "cells": [
  {
   "attachments": {},
   "cell_type": "markdown",
   "metadata": {},
   "source": [
    "[![Works with Edge Impulse](../.assets/images/ei-badge.svg)](http://edgeimpulse.com) [![Open in Google Colab](https://colab.research.google.com/assets/colab-badge.svg)](https://colab.research.google.com/github/edgeimpulse/notebooks/blob/main/notebooks/generate-dall-e-image-dataset.ipynb) "
   ]
  },
  {
   "attachments": {},
   "cell_type": "markdown",
   "metadata": {},
   "source": [
    "# Use OpenAI Dall-E to generate an image dataset for image classification\n",
    "This notebook explores how we can use generative AI to create datasets which don't exist yet. This can be a good starting point for your project if you have not collected or cannot collect the data required. It is important to note the limitations of generative AI still apply here, biases can be introduced through your prompts, results can include \"hallucinations\" and quality control is important. \n",
    "\n",
    "This example uses the openai API to call the Dall-E image generation tool, it explores both generation and variation but there are other tools such as editing which could also be useful for augmenting an existing dataset. \n",
    "\n",
    "We have wrapped this example into a [Transformation Block](https://docs.edgeimpulse.com/docs/edge-impulse-studio/organizations/research-data/creating-a-transformation-block-dataset) (Enterprise Feature) to make it even easier to generate images. Upload to your organisation here: https://github.com/edgeimpulse/example-transform-Dall-E-images"
   ]
  },
  {
   "attachments": {},
   "cell_type": "markdown",
   "metadata": {},
   "source": [
    "\n",
    "### Local Software Requirements\n",
    "- Python 3\n",
    "- Pip package manager \n",
    "- Jupyter Notebook: https://jupyter.org/install\n",
    "- pip packages (install with `pip install `*`packagename`*):\n",
    "    - openai https://pypi.org/project/openai/"
   ]
  },
  {
   "cell_type": "code",
   "execution_count": null,
   "metadata": {},
   "outputs": [],
   "source": [
    "! pip install openai"
   ]
  },
  {
   "cell_type": "code",
   "execution_count": null,
   "metadata": {},
   "outputs": [],
   "source": [
    "# Imports\n",
    "import openai\n",
    "import os\n",
    "import requests\n",
    "\n",
    "# Notebook Imports\n",
    "from IPython.display import Image\n",
    "from IPython.display import display\n",
    "import matplotlib.pyplot as plt\n",
    "import matplotlib.image as mpimg"
   ]
  },
  {
   "attachments": {},
   "cell_type": "markdown",
   "metadata": {},
   "source": [
    "## Set up OpenAI API\n",
    "First off you will need to set up and Edge Impulse account and create your first project. \n",
    "\n",
    "You will also need to create an API Key for OpenAI: https://platform.openai.com/docs/api-reference/authentication\n"
   ]
  },
  {
   "cell_type": "code",
   "execution_count": null,
   "metadata": {},
   "outputs": [],
   "source": [
    "\n",
    "# You can set your API key and org as environment variables in your system like this:\n",
    "# os.environ['OPENAI_API_KEY'] = 'api string'\n",
    "\n",
    "# Set up OpenAI API key and organization\n",
    "openai.api_key = os.getenv(\"OPENAI_API_KEY\")"
   ]
  },
  {
   "attachments": {},
   "cell_type": "markdown",
   "metadata": {},
   "source": [
    "\n",
    "### Generate your first image\n",
    "The API takes in a prompt, number of images and a size\n"
   ]
  },
  {
   "cell_type": "code",
   "execution_count": null,
   "metadata": {},
   "outputs": [],
   "source": [
    "image_prompt = \"A webcam image of a human 1m from the camera sitting at a desk showing that they are wearing gloves with their hands up to the camera.\"\n",
    "# image_prompt = \"A webcam image of a person 1m from the camera sitting at a desk with their bare hands up to the camera.\"\n",
    "# image_prompt = \"A webcam image of a human 1m from the camera sitting at a desk showing that they are wearing wool gloves with their hands up to the camera.\"\n",
    "\n",
    "response = openai.Image.create(\n",
    "    prompt=image_prompt,\n",
    "    n=1,\n",
    "    size=\"256x256\",\n",
    ")\n",
    "Image(url=response[\"data\"][0][\"url\"])"
   ]
  },
  {
   "attachments": {},
   "cell_type": "markdown",
   "metadata": {},
   "source": [
    "### Generate some variations of this image\n",
    "The API also has a variations call which takes in an existing images and creates variations of it. This could also be used to modify existing images."
   ]
  },
  {
   "cell_type": "code",
   "execution_count": null,
   "metadata": {},
   "outputs": [],
   "source": [
    "response2 = openai.Image.create_variation(\n",
    "  image=requests.get(response['data'][0]['url']).content,\n",
    "  n=3,\n",
    "  size=\"256x256\"\n",
    ")\n",
    "imgs = []\n",
    "for img in response2['data']:\n",
    "  imgs.append(Image(url=img['url']))\n",
    "\n",
    "display(*imgs)"
   ]
  },
  {
   "attachments": {},
   "cell_type": "markdown",
   "metadata": {},
   "source": [
    "## Generate a dataset:\n",
    "Here we are iterate through a number of images and variations to generate a dataset based on the prompts/labels given."
   ]
  },
  {
   "cell_type": "code",
   "execution_count": null,
   "metadata": {},
   "outputs": [],
   "source": [
    "labels = [{\"prompt\": \"A webcam image of a human 1m from the camera sitting at a desk showing that they are wearing wool gloves with their hands up to the camera.\",\n",
    "          \"label\": \"gloves\"},\n",
    "          {\"prompt\": \"A webcam image of a person 1m from the camera sitting at a desk with their bare hands up to the camera.\",\n",
    "          \"label\": \"no-gloves\"}\n",
    "        ]\n",
    "output_folder = \"output\"\n",
    "base_images_number = 10\n",
    "variation_per_image = 3\n",
    "# Check if output directory for noisey files exists and create it if it doesn't\n",
    "if not os.path.exists(output_folder):\n",
    "    os.makedirs(output_folder)\n",
    "\n",
    "for option in labels:\n",
    "    for i in range(base_images_number):\n",
    "        response = openai.Image.create(\n",
    "            prompt=option[\"prompt\"],\n",
    "            n=1,\n",
    "            size=\"256x256\",\n",
    "        )\n",
    "        try:\n",
    "            img = response[\"data\"][0][\"url\"]\n",
    "            with open(f'{output_folder}/{option[\"label\"]}.{img.split(\"/\")[-1]}.png', 'wb+') as f:\n",
    "                f.write(requests.get(img).content)\n",
    "            response2 = openai.Image.create_variation(\n",
    "                image=requests.get(img).content,\n",
    "                n=variation_per_image,\n",
    "                size=\"256x256\"\n",
    "            )\n",
    "        except Exception as e:\n",
    "            print(e)\n",
    "        for img in response2['data']:\n",
    "            try:\n",
    "                with open(f'{output_folder}/{option[\"label\"]}.{img[\"url\"].split(\"/\")[-1]}.png', 'wb') as f:\n",
    "                    f.write(requests.get(img[\"url\"]).content)\n",
    "            except Exception as e:\n",
    "                print(e)"
   ]
  },
  {
   "attachments": {},
   "cell_type": "markdown",
   "metadata": {},
   "source": [
    "### Plot all the output images:"
   ]
  },
  {
   "cell_type": "code",
   "execution_count": null,
   "metadata": {},
   "outputs": [],
   "source": [
    "import os\n",
    "\n",
    "\n",
    "# Define the folder containing the images\n",
    "folder_path = './output'\n",
    "\n",
    "# Get a list of all the image files in the folder\n",
    "image_files = [f for f in os.listdir(folder_path) if os.path.isfile(os.path.join(folder_path, f)) and f.endswith('.png')]\n",
    "\n",
    "# Set up the plot\n",
    "fig, axs = plt.subplots(nrows=20, ncols=20, figsize=(10, 10))\n",
    "\n",
    "# Loop through each image and plot it in a grid cell\n",
    "for i in range(20):\n",
    "    for j in range(20):\n",
    "        img = mpimg.imread(os.path.join(folder_path, image_files[i*10+j]))\n",
    "        axs[i,j].imshow(img)\n",
    "        axs[i,j].axis('off')\n",
    "\n",
    "# Make the plot look clean\n",
    "fig.subplots_adjust(hspace=0, wspace=0)\n",
    "plt.tight_layout()\n",
    "plt.show()\n"
   ]
  },
  {
   "attachments": {},
   "cell_type": "markdown",
   "metadata": {},
   "source": [
    "These files can then be uploaded to a project with these commands (run in a separate terminal window):"
   ]
  },
  {
   "cell_type": "code",
   "execution_count": null,
   "metadata": {},
   "outputs": [],
   "source": [
    "! cd output\n",
    "! edge-impulse-uploader ."
   ]
  },
  {
   "attachments": {},
   "cell_type": "markdown",
   "metadata": {},
   "source": [
    "(run edge-impulse-uploader --clean if you have used the CLI before to reset the target project)"
   ]
  },
  {
   "attachments": {},
   "cell_type": "markdown",
   "metadata": {},
   "source": [
    "## What next?\n",
    "Now you can use your images to create an image classification model on Edge Impulse.\n",
    "\n",
    "Why not try some other OpenAI calls, 'edit' could be used to take an existing image and translate it into different environments or add different humans to increase the variety of your dataset. https://platform.openai.com/docs/guides/images/usage"
   ]
  }
 ],
 "metadata": {
  "kernelspec": {
   "display_name": "Python 3",
   "language": "python",
   "name": "python3"
  },
  "language_info": {
   "codemirror_mode": {
    "name": "ipython",
    "version": 3
   },
   "file_extension": ".py",
   "mimetype": "text/x-python",
   "name": "python",
   "nbconvert_exporter": "python",
   "pygments_lexer": "ipython3",
   "version": "3.11.0rc2"
  },
  "vscode": {
   "interpreter": {
    "hash": "bad1f34850cf7a418228d1fe01ba985e30c9d9c31c0cf028909436fe9d6b20cb"
   }
  }
 },
 "nbformat": 4,
 "nbformat_minor": 2
}
