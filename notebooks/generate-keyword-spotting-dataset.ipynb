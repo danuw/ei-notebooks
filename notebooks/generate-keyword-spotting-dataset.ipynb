{
 "cells": [
  {
   "attachments": {},
   "cell_type": "markdown",
   "metadata": {},
   "source": [
    "[![Works with Edge Impulse](../.assets/images/ei-badge.svg)](http://edgeimpulse.com) [![Open in Google Colab](https://colab.research.google.com/assets/colab-badge.svg)](https://colab.research.google.com/github/edgeimpulse/notebooks/blob/main/notebooks/generate-keyword-spotting-dataset.ipynb) "
   ]
  },
  {
   "attachments": {},
   "cell_type": "markdown",
   "metadata": {},
   "source": [
    "# Use Google Text-To-Speech to generate a dataset for keyword spotting"
   ]
  },
  {
   "attachments": {},
   "cell_type": "markdown",
   "metadata": {},
   "source": [
    "\n",
    "### Local Software Requirements\n",
    "- Python 3\n",
    "- Pip package manager \n",
    "- Jupyter Notebook: https://jupyter.org/install\n",
    "- pip packages (install with `pip install `*`packagename`*):\n",
    "    - pydub https://pypi.org/project/pydub/\n",
    "    - google-cloud-texttospeech  https://cloud.google.com/python/docs/reference/texttospeech/latest\n",
    "    - requests https://pypi.org/project/requests/\n",
    "\n",
    "\n"
   ]
  },
  {
   "cell_type": "code",
   "execution_count": null,
   "metadata": {},
   "outputs": [],
   "source": [
    "# Imports\n",
    "import os\n",
    "import json\n",
    "import time\n",
    "import io\n",
    "import random\n",
    "import requests\n",
    "from pydub import AudioSegment\n",
    "from google.cloud import texttospeech"
   ]
  },
  {
   "attachments": {},
   "cell_type": "markdown",
   "metadata": {},
   "source": [
    "## Set up Google TTS API\n",
    "First off you will need to set up and Edge Impulse account and create your first project.\n",
    "You will also need a Google Cloud account with the Text to Speech API enabled: https://cloud.google.com/text-to-speech, the first million characters generated each month are free (WaveNet voices), this should be plenty for most cases as you'll only need to generate your dataset once.\n",
    "From google you will need to download a credentials JSON file and set it to the correct environment variable on your system to allow the python API to work: (https://developers.google.com/workspace/guides/create-credentials#service-account)\n"
   ]
  },
  {
   "cell_type": "code",
   "execution_count": null,
   "metadata": {},
   "outputs": [],
   "source": [
    "\n",
    "# Insert the path to your service account API key json file here for google cloud\n",
    "os.environ['GOOGLE_APPLICATION_CREDENTIALS'] = '../path-to-google-credentials-file.json'"
   ]
  },
  {
   "attachments": {},
   "cell_type": "markdown",
   "metadata": {},
   "source": [
    "\n",
    "## Generate the desired samples\n",
    "First off we need to set our desired keywords and labels:\n"
   ]
  },
  {
   "cell_type": "code",
   "execution_count": null,
   "metadata": {},
   "outputs": [],
   "source": [
    "\n",
    "# Keyword or short sentence and label (e.g. 'hello world')\n",
    "keyword = [\n",
    "    {'string':'edge','label':'edge'},\n",
    "    {'string':'impulse','label':'impulse'},\n",
    "           ]"
   ]
  },
  {
   "attachments": {},
   "cell_type": "markdown",
   "metadata": {},
   "source": [
    "\n",
    "Then we need to set up the parameters for our speech dataset, all possible combinations will be iterated through:\n",
    "- languages - Choose the text to speech voice languages to use (https://cloud.google.com/text-to-speech/docs/voices)\n",
    "- pitches - Which voice pitches to apply\n",
    "- genders - Which SSML genders to apply\n",
    "- speakingRates - Which speaking speeds to apply\n"
   ]
  },
  {
   "cell_type": "code",
   "execution_count": null,
   "metadata": {},
   "outputs": [],
   "source": [
    "\n",
    "\n",
    "# Languages, remove as appropriate\n",
    "# languages = [\n",
    "#     'ar-XA', 'bn-IN',  'en-GB',  'fr-CA',\n",
    "#     'en-US', 'es-ES',  'fi-FI',  'gu-IN',\n",
    "#     'ja-JP', 'kn-IN',  'ml-IN',  'sv-SE',\n",
    "#     'ta-IN', 'tr-TR',  'cs-CZ',  'de-DE',\n",
    "#     'en-AU', 'en-IN',  'fr-FR',  'hi-IN',\n",
    "#     'id-ID', 'it-IT',  'ko-KR',  'ru-RU',\n",
    "#     'uk-UA', 'cmn-CN', 'cmn-TW', 'da-DK',\n",
    "#     'el-GR', 'fil-PH', 'hu-HU',  'nb-NO',\n",
    "#     'nl-NL', 'pt-PT',  'sk-SK',  'vi-VN',\n",
    "#     'pl-PL', 'pt-BR',  'ca-ES',  'yue-HK',\n",
    "#     'af-ZA', 'bg-BG',  'lv-LV',  'ro-RO',\n",
    "#     'sr-RS', 'th-TH',  'te-IN',  'is-IS'\n",
    "# ]\n",
    "languages = [\n",
    "    'en-GB',\n",
    "    'en-US',\n",
    "]\n",
    "# Pitches to generate (in semitones) range: [-20.0, 20.0]\n",
    "pitches = [-2, 0, 2]\n",
    "# Voice genders to use\n",
    "genders = [\"NEUTRAL\", \"FEMALE\", \"MALE\"]\n",
    "# Speaking rates to use range: [0.25, 4.0]\n",
    "speakingRates = [0.9, 1, 1.1]\n",
    "\n"
   ]
  },
  {
   "attachments": {},
   "cell_type": "markdown",
   "metadata": {},
   "source": [
    "\n",
    "Then provide some other key parameters:\n",
    "- out_length - How long each output sample should be\n",
    "- count - Maximum number of samples to output (if all combinations of languages, pitches etc are higher then this restricts output)\n",
    "- voice-dir - Where to store the clean samples before noise is added\n",
    "- noise-url - Which noise file to download and apply to your samples\n",
    "- output-folder - The final output location of the noised samples\n",
    "- num-copies - How many different noisy versions of each sample to create\n",
    "- max-noise-level - in Db, \n",
    "\n"
   ]
  },
  {
   "cell_type": "code",
   "execution_count": null,
   "metadata": {},
   "outputs": [],
   "source": [
    "# Out length minimum (default: 1s)\n",
    "out_length = 1\n",
    "# Maximum number of keywords to generate\n",
    "count = 30\n",
    "# Raw sample output directory\n",
    "voice_dir = 'out-wav'\n",
    "# Creative commons background noise from freesound.org:https://freesound.org/people/Astounded/sounds/483561/\n",
    "noise_url = 'https://cdn.freesound.org/previews/483/483561_10201334-lq.ogg'\n",
    "output_folder = 'out-noisy'\n",
    "num_copies = 2  # Number of noisy copies to create for each input sample\n",
    "max_noise_level = -5  # Maximum noise level to add in dBFS (negative value)\n"
   ]
  },
  {
   "attachments": {},
   "cell_type": "markdown",
   "metadata": {},
   "source": [
    "Then we need to check all the output folders are ready"
   ]
  },
  {
   "cell_type": "code",
   "execution_count": null,
   "metadata": {},
   "outputs": [],
   "source": [
    "\n",
    "# Check if output directory for noisey files exists and create it if it doesn't\n",
    "if not os.path.exists(output_folder):\n",
    "    os.makedirs(output_folder)\n",
    "# Check if output directory for raw voices exists and create it if it doesn't\n",
    "if not os.path.exists(voice_dir):\n",
    "    os.makedirs(voice_dir)    \n"
   ]
  },
  {
   "attachments": {},
   "cell_type": "markdown",
   "metadata": {},
   "source": [
    "And download the background noise file"
   ]
  },
  {
   "cell_type": "code",
   "execution_count": null,
   "metadata": {},
   "outputs": [],
   "source": [
    "\n",
    "# Download background noise file\n",
    "response = requests.get(noise_url)\n",
    "response.raise_for_status()\n",
    "noise_audio = AudioSegment.from_file(io.BytesIO(response.content), format='ogg')\n"
   ]
  },
  {
   "attachments": {},
   "cell_type": "markdown",
   "metadata": {},
   "source": [
    "Then we can generate a list of all possible parameter combinations based on the input earlier. If you have set `num_copies` to be smaller than the number of combinations then these options will be reduced: "
   ]
  },
  {
   "cell_type": "code",
   "execution_count": null,
   "metadata": {},
   "outputs": [],
   "source": [
    "\n",
    "# Generate all combinations of parameters\n",
    "all_opts = []\n",
    "for p in pitches:\n",
    "    for g in genders:\n",
    "        for l in languages:\n",
    "            for s in speakingRates:\n",
    "                for kw in keyword:\n",
    "                    all_opts.append({\n",
    "                            \"pitch\": p,\n",
    "                            \"gender\": g,\n",
    "                            \"language\": l,\n",
    "                            \"speakingRate\": s,\n",
    "                            \"text\": kw['string'],\n",
    "                            \"label\": kw['label']\n",
    "                        })\n",
    "if len(all_opts)*num_copies > count:\n",
    "    selectEvery = len(all_opts)*num_copies // count\n",
    "    selectNext = 0\n",
    "    all_opts = all_opts[::selectEvery]\n",
    "print(f'Generating {len(all_opts)*num_copies} samples')"
   ]
  },
  {
   "attachments": {},
   "cell_type": "markdown",
   "metadata": {},
   "source": [
    "Finally we iterate though all the options generated, call the Google TTS API to generate the desired sample, and apply noise to it, saving locally with metadata:"
   ]
  },
  {
   "cell_type": "code",
   "execution_count": null,
   "metadata": {},
   "outputs": [],
   "source": [
    "\n",
    "# Instantiate list for file label information\n",
    "downloaded_files = []\n",
    "\n",
    "# Instantiates a client\n",
    "client = texttospeech.TextToSpeechClient()\n",
    "\n",
    "ix = 0\n",
    "for o in all_opts:\n",
    "    ix += 1\n",
    "    # Set the text input to be synthesized\n",
    "    synthesis_input = texttospeech.SynthesisInput(text=o['text'])\n",
    "    # Build the voice request\n",
    "    voice = texttospeech.VoiceSelectionParams(\n",
    "        language_code=o['language'],\n",
    "        ssml_gender=o['gender']\n",
    "    )\n",
    "    # Select the type of audio file you want returned\n",
    "    audio_config = texttospeech.AudioConfig(\n",
    "        audio_encoding=texttospeech.AudioEncoding.LINEAR16,\n",
    "        pitch=o['pitch'],\n",
    "        speaking_rate=o['speakingRate'],\n",
    "        sample_rate_hertz=16000\n",
    "    )\n",
    "    # Perform the text-to-speech request on the text input with the selected\n",
    "    # voice parameters and audio file type\n",
    "\n",
    "    wav_file_name = f\"{voice_dir}/{o['label']}.{o['language']}-{o['gender']}-{o['pitch']}-{o['speakingRate']}.tts.wav\"\n",
    "\n",
    "    if not os.path.exists(wav_file_name):\n",
    "        print(f\"[{ix}/{len(all_opts)}] Text-to-speeching...\")\n",
    "        response = client.synthesize_speech(\n",
    "            input=synthesis_input, voice=voice, audio_config=audio_config\n",
    "        )\n",
    "        with open(wav_file_name, \"wb\") as f:\n",
    "            f.write(response.audio_content)\n",
    "        has_hit_api = True\n",
    "    else:\n",
    "        print(f'skipping {wav_file_name}')\n",
    "        has_hit_api = False\n",
    "\n",
    "    # Load voice sample\n",
    "    voice_audio = AudioSegment.from_file(wav_file_name)\n",
    "    # Add silence to match output length with random padding\n",
    "    difference = (out_length * 1000) - len(voice_audio)\n",
    "    if difference > 0:\n",
    "        padding_before = random.randint(0, difference)\n",
    "        padding_after = difference - padding_before\n",
    "        voice_audio = AudioSegment.silent(duration=padding_before) +  voice_audio + AudioSegment.silent(duration=padding_after)\n",
    "\n",
    "    for i in range(num_copies):\n",
    "        # Save noisy sample to output folder\n",
    "        output_filename = f\"{o['label']}.{o['language']}-{o['gender']}-{o['pitch']}-{o['speakingRate']}_noisy_{i+1}.wav\"\n",
    "        output_path = os.path.join(output_folder, output_filename)\n",
    "        if not os.path.exists(output_path):\n",
    "            # Select random section of noise and random noise level\n",
    "            start_time = random.randint(0, len(noise_audio) - len(voice_audio))\n",
    "            end_time = start_time +len(voice_audio)\n",
    "            noise_level = random.uniform(max_noise_level, 0)\n",
    "\n",
    "            # Extract selected section of noise and adjust volume\n",
    "            noise_segment = noise_audio[start_time:end_time]\n",
    "            noise_segment = noise_segment - abs(noise_level)\n",
    "\n",
    "            # Mix voice sample with noise segment\n",
    "            mixed_audio = voice_audio.overlay(noise_segment)\n",
    "            # Save mixed audio to file\n",
    "            mixed_audio.export(output_path, format='wav')\n",
    "\n",
    "            print(f'Saved mixed audio to {output_path}')\n",
    "        else:\n",
    "            print(f'skipping {output_path}')\n",
    "        # Save metadata for file\n",
    "        downloaded_files.append({\n",
    "            \"path\": str(output_filename),\n",
    "            \"label\": o['label'],\n",
    "            \"category\": \"split\",\n",
    "            \"metadata\": {\n",
    "                \"pitch\": str(['pitch']),\n",
    "                \"gender\": str(o['gender']),\n",
    "                \"language\": str(o['language']),\n",
    "                \"speakingRate\": str(o['speakingRate']),\n",
    "                \"text\": o['text'],\n",
    "                \"imported_from\": \"Google Cloud TTS\"\n",
    "            }\n",
    "        })\n",
    "\n",
    "    if has_hit_api:\n",
    "        time.sleep(0.5)\n",
    "\n",
    "print(\"Done text-to-speeching\")\n",
    "print(\"\")\n",
    "\n",
    "input_file = os.path.join(output_folder, 'input.json')\n",
    "info_file = {\n",
    "    \"version\": 1,\n",
    "    \"files\": downloaded_files\n",
    "}\n",
    "# Output the metadata file\n",
    "with open(input_file, \"w\") as f:\n",
    "    json.dump(info_file, f)"
   ]
  },
  {
   "attachments": {},
   "cell_type": "markdown",
   "metadata": {},
   "source": [
    "The files in `./out-noisy` can be uploaded easily using the Edge Impulse CLI tool https://docs.edgeimpulse.com/docs/edge-impulse-cli/cli-uploader:"
   ]
  },
  {
   "cell_type": "code",
   "execution_count": null,
   "metadata": {
    "vscode": {
     "languageId": "shellscript"
    }
   },
   "outputs": [],
   "source": [
    "# Move to the out-noisy folder\n",
    "! cd out-noisy\n",
    "# Upload all files in the out-noisy folder with metadata attached in the input.json file\n",
    "! edge-impulse-uploader --info-file input.json *"
   ]
  },
  {
   "attachments": {},
   "cell_type": "markdown",
   "metadata": {},
   "source": [
    "## What next?\n",
    "Now you can use your keywords to create a robust keyword detection model in Edge Impulse Studio!\n",
    "\n",
    "Make use of our pre-built keyword dataset to add noise and 'unknown' words to your model: https://docs.edgeimpulse.com/docs/pre-built-datasets/keyword-spotting\n",
    "\n",
    "Try out both classification models and the transfer learning keyword spotting model to see which works best for your case"
   ]
  }
 ],
 "metadata": {
  "kernelspec": {
   "display_name": "Python 3",
   "language": "python",
   "name": "python3"
  },
  "language_info": {
   "codemirror_mode": {
    "name": "ipython",
    "version": 3
   },
   "file_extension": ".py",
   "mimetype": "text/x-python",
   "name": "python",
   "nbconvert_exporter": "python",
   "pygments_lexer": "ipython3",
   "version": "3.11.0rc2"
  },
  "vscode": {
   "interpreter": {
    "hash": "bad1f34850cf7a418228d1fe01ba985e30c9d9c31c0cf028909436fe9d6b20cb"
   }
  }
 },
 "nbformat": 4,
 "nbformat_minor": 2
}
